{
 "cells": [
  {
   "attachments": {},
   "cell_type": "markdown",
   "metadata": {},
   "source": [
    "# Peer Graded Assignment : Tools for Data Science"
   ]
  },
  {
   "attachments": {},
   "cell_type": "markdown",
   "metadata": {},
   "source": [
    "# Introduction\n",
    "This is markdown cell for introduction for Course Peer Graded Assignment."
   ]
  },
  {
   "attachments": {},
   "cell_type": "markdown",
   "metadata": {},
   "source": [
    "# Data Science Languages\n",
    "\n",
    "Here are some popular programming languages used in data science:\n",
    "\n",
    "1. **Python**: Python is one of the most widely used and versatile languages in the data science field. It offers a vast ecosystem of libraries such as NumPy, Pandas, Matplotlib, Seaborn, Scikit-learn, and TensorFlow, making it suitable for various data analysis, visualization, and machine learning tasks.\n",
    "\n",
    "2. **R**: R is a language specifically designed for statistical computing and graphics. It has a strong community of data scientists and statisticians, with a rich set of packages like ggplot2, dplyr, and tidyr, which are highly preferred for data manipulation and visualization.\n",
    "\n",
    "3. **SQL**: SQL (Structured Query Language) is essential for working with relational databases. Data scientists often use SQL to extract, manipulate, and analyze data from databases efficiently.\n",
    "\n",
    "4. **Julia**: Julia is a high-level, high-performance language for technical computing. It's gaining popularity in the data science community due to its speed and ability to handle complex numerical computations.\n",
    "\n",
    "5. **Java**: While not as commonly associated with data science as Python or R, Java is widely used in big data processing frameworks like Apache Hadoop and Apache Spark, which are crucial for handling large-scale data analysis."
   ]
  },
  {
   "attachments": {},
   "cell_type": "markdown",
   "metadata": {},
   "source": [
    "# Data Science Libraries\n",
    "\n",
    "Here are five popular data science libraries used in various programming languages:\n",
    "\n",
    "1. **NumPy**: NumPy is a fundamental library for numerical computing in Python. It provides support for large, multi-dimensional arrays and matrices, along with a collection of mathematical functions to operate on these arrays efficiently.\n",
    "\n",
    "2. **Pandas**: Pandas is a powerful library for data manipulation and analysis in Python. It offers data structures like DataFrame and Series, making it easy to handle structured data and perform various operations like filtering, grouping, and merging.\n",
    "\n",
    "3. **Scikit-learn**: Scikit-learn is a widely used machine learning library in Python. It provides simple and efficient tools for data mining and data analysis, including various algorithms for classification, regression, clustering, and more.\n",
    "\n",
    "4. **Matplotlib**: Matplotlib is a popular data visualization library in Python. It allows users to create high-quality plots, charts, and graphs to visually represent data and gain insights from it.\n",
    "\n",
    "5. **TensorFlow**: TensorFlow is an open-source machine learning library developed by Google. It is used for building and training deep learning models, especially neural networks, for various tasks like image recognition, natural language processing, and more.\n",
    "\n",
    "These libraries are instrumental in the data science workflow, enabling data scientists and researchers to analyze data, perform statistical computations, build machine learning models, and visualize results effectively.\n"
   ]
  },
  {
   "attachments": {},
   "cell_type": "markdown",
   "metadata": {},
   "source": [
    "# Data Science Tools\n",
    "\n",
    "| Tool           | Description                                                                                       |\n",
    "|----------------|---------------------------------------------------------------------------------------------------|\n",
    "| Python         | A versatile programming language with extensive libraries for data analysis and machine learning. |\n",
    "| R              | A language designed for statistical computing and graphics, commonly used in data analysis.       |\n",
    "| SQL            | A query language used for managing and analyzing relational databases.                            |\n",
    "| Jupyter        | An interactive computing environment that allows data analysis, visualization, and collaboration. |\n",
    "| Apache Spark   | A fast and distributed data processing engine commonly used for big data analytics.               |\n",
    "| Tableau        | A powerful data visualization tool that helps in creating interactive and insightful visuals.     |\n",
    "| Excel          | A spreadsheet program often used for data organization and basic analysis.                        |\n",
    "| TensorFlow     | An open-source machine learning library, particularly suitable for deep learning tasks.           |\n",
    "| Scikit-learn   | A machine learning library in Python providing simple and efficient tools for data analysis.      |\n",
    "| Power BI       | A business analytics service by Microsoft for interactive data visualization and reporting.       |\n",
    "\n",
    "\n"
   ]
  },
  {
   "attachments": {},
   "cell_type": "markdown",
   "metadata": {},
   "source": [
    "# Arithmetic Expression Examples\n",
    "\n",
    "Here are two examples of arithmetic expressions:\n",
    "\n",
    "1. **Addition**: The addition operation combines two values together. For example: `2 + 3` results in `5`.\n",
    "\n",
    "2. **Multiplication**: Multiplication multiplies two values. For example: `4 * 6` results in `24`.\n",
    "\n",
    "\n"
   ]
  },
  {
   "cell_type": "code",
   "execution_count": null,
   "metadata": {},
   "outputs": [],
   "source": [
    "# Multiplication\n",
    "num1 = 4\n",
    "num2 = 6\n",
    "result_multiply = num1 * num2\n",
    "\n",
    "# Addition\n",
    "num3 = 2\n",
    "num4 = 3\n",
    "result_addition = num3 + num4\n",
    "\n",
    "# Display results\n",
    "print(\"Multiplication Result:\", result_multiply)\n",
    "print(\"Addition Result:\", result_addition)\n"
   ]
  },
  {
   "cell_type": "code",
   "execution_count": null,
   "metadata": {},
   "outputs": [],
   "source": [
    "# Function to convert minutes to hours\n",
    "def convert_minutes_to_hours(minutes):\n",
    "    hours = minutes / 60\n",
    "    return hours\n",
    "\n",
    "# Example usage\n",
    "minutes_input = 150\n",
    "hours_output = convert_minutes_to_hours(minutes_input)\n",
    "print(f\"{minutes_input} minutes is equal to {hours_output:.2f} hours.\")\n"
   ]
  },
  {
   "attachments": {},
   "cell_type": "markdown",
   "metadata": {},
   "source": [
    "# Objectives\n",
    "\n",
    "The main objectives of this project are as follows:\n",
    "\n",
    "1. Perform data cleaning and preprocessing to ensure data quality and consistency.\n",
    "\n",
    "2. Conduct exploratory data analysis (EDA) to gain insights into the dataset and identify patterns or trends.\n",
    "\n",
    "3. Build and train a machine learning model to predict the target variable with high accuracy.\n",
    "\n",
    "4. Evaluate the model's performance using appropriate metrics and fine-tune it for better results.\n",
    "\n",
    "5. Create visualizations and reports to communicate findings effectively to stakeholders.\n",
    "\n",
    "6. Optimize the code and model for efficiency and scalability.\n",
    "\n",
    "7. Document the entire data science process, including data sources, methodology, and results.\n"
   ]
  },
  {
   "attachments": {},
   "cell_type": "markdown",
   "metadata": {},
   "source": [
    "# Author\n",
    "\n",
    "The author of this document is Ikram Ul Haq.\n"
   ]
  }
 ],
 "metadata": {
  "language_info": {
   "name": "python"
  },
  "orig_nbformat": 4
 },
 "nbformat": 4,
 "nbformat_minor": 2
}
